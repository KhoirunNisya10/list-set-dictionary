{
  "nbformat": 4,
  "nbformat_minor": 0,
  "metadata": {
    "colab": {
      "provenance": []
    },
    "kernelspec": {
      "name": "python3",
      "display_name": "Python 3"
    },
    "language_info": {
      "name": "python"
    }
  },
  "cells": [
    {
      "cell_type": "markdown",
      "source": [
        "**List Python**\n",
        "\n",
        "Dalam bahasa pemrograman Python, struktur data yang paling dasar adalah urutan atau lists. Setiap elemen-elemen berurutan akan diberi\n",
        "nomor posisi atau indeksnya. Indeks pertama dalam list adalah nol, indeks kedua adalah satu dan seterusnya.\n",
        "\n",
        "Python memiliki enam jenis urutan built-in, namun yang paling umum adalah list dan tuple. Ada beberapa hal yang dapat Anda lakukan dengan\n",
        "semua jenis list. Operasi ini meliputi pengindeksan, pengiris, penambahan, perbanyak, dan pengecekan keanggotaan. Selain itu, Python\n",
        "memiliki fungsi built-in untuk menemukan panjang list dan untuk menemukan elemen terbesar dan terkecilnya.\n"
      ],
      "metadata": {
        "id": "1r2lmLhcp_E9"
      }
    },
    {
      "cell_type": "markdown",
      "source": [
        "**Membuat List Python**\n",
        "\n",
        "List adalah tipe data yang paling serbaguna yang tersedia dalam bahasa Python, yang dapat ditulis sebagai daftar nilai yang dipisahkan koma\n",
        "(item) antara tanda kurung siku. Hal penting tentang daftar adalah item dalam list tidak boleh sama jenisnya.\n",
        "\n",
        "\n",
        "Membuat list sangat sederhana, tinggal memasukkan berbagai nilai yang dipisahkan koma di antara tanda kurung siku. Dibawah ini adalah\n",
        "contoh sederhana pembuatan list dalam bahasa Python.\n"
      ],
      "metadata": {
        "id": "V5LnWjeoqG_6"
      }
    },
    {
      "cell_type": "code",
      "execution_count": 1,
      "metadata": {
        "colab": {
          "base_uri": "https://localhost:8080/"
        },
        "id": "QjezXXQOp91P",
        "outputId": "6c844ec7-7ecc-4a2f-ff06-a249e36d4b7c"
      },
      "outputs": [
        {
          "output_type": "stream",
          "name": "stdout",
          "text": [
            "List 1: ['kimia', 'fisika', 1993, 2017]\n",
            "List 2: [1, 2, 3, 4, 5]\n",
            "List 3: ['a', 'b', 'c', 'd']\n"
          ]
        }
      ],
      "source": [
        "#Contoh sederhana pembuatan list pada bahasa pemrograman python\n",
        "list1 = ['kimia', 'fisika', 1993, 2017]\n",
        "list2 = [1, 2, 3, 4, 5 ]\n",
        "list3 = [\"a\", \"b\", \"c\", \"d\"]\n",
        "print('List 1:', list1)\n",
        "print('List 2:', list2)\n",
        "print('List 3:', list3)"
      ]
    },
    {
      "cell_type": "markdown",
      "source": [
        "**Akses Nilai Dalam List Python**\n",
        "\n",
        "Untuk mengakses nilai dalam list python, gunakan tanda kurung siku untuk mengiris beserta indeks atau indeks untuk mendapatkan nilai yang\n",
        "tersedia pada indeks tersebut.\n",
        "\n"
      ],
      "metadata": {
        "id": "6G4t3nlGqUJX"
      }
    },
    {
      "cell_type": "code",
      "source": [
        "#Cara mengakses nilai di dalam list Python\n",
        "list1 = ['fisika', 'kimia', 1993, 2017]\n",
        "list2 = [1, 2, 3, 4, 5, 6, 7 ]\n",
        "print (\"list1[0]: \", list1[0])\n",
        "print (\"list2[1:5]: \", list2[1:5])"
      ],
      "metadata": {
        "colab": {
          "base_uri": "https://localhost:8080/"
        },
        "id": "HZ5RvDPWqTMP",
        "outputId": "5eccd404-985b-4d8c-f134-8061f1494780"
      },
      "execution_count": 2,
      "outputs": [
        {
          "output_type": "stream",
          "name": "stdout",
          "text": [
            "list1[0]:  fisika\n",
            "list2[1:5]:  [2, 3, 4, 5]\n"
          ]
        }
      ]
    },
    {
      "cell_type": "markdown",
      "source": [
        "**Update Nilai Dalam List Python**\n",
        "\n",
        "Kita dapat memperbarui satu atau beberapa nilai di dalam list dengan memberikan potongan di sisi kiri operator penugasan, dan kita dapat\n",
        "menambahkan nilai ke dalam list dengan metode append ().\n",
        "\n"
      ],
      "metadata": {
        "id": "EbwG2aM2qo9R"
      }
    },
    {
      "cell_type": "code",
      "source": [
        "list = ['fisika', 'kimia', 1993, 2017]\n",
        "print (\"Nilai ada pada index 2 : \", list[2])\n",
        "list[2] = 2001\n",
        "print (\"Nilai baru ada pada index 2 : \", list[2])"
      ],
      "metadata": {
        "colab": {
          "base_uri": "https://localhost:8080/"
        },
        "id": "VcCXcL-yqmCx",
        "outputId": "1fdc6fe9-b57b-47d8-d054-6745fbe1501a"
      },
      "execution_count": 3,
      "outputs": [
        {
          "output_type": "stream",
          "name": "stdout",
          "text": [
            "Nilai ada pada index 2 :  1993\n",
            "Nilai baru ada pada index 2 :  2001\n"
          ]
        }
      ]
    },
    {
      "cell_type": "markdown",
      "source": [
        "**Hapus Nilai Dalam List Python**\n",
        "\n",
        "Untuk menghapus nilai di dalam list python, kita dapat menggunakan salah satu pernyataan del jika Anda tahu persis elemen yang Anda hapus.\n",
        "Kita dapat menggunakan metode remove() jika Anda tidak tahu persis item mana yang akan dihapus.\n"
      ],
      "metadata": {
        "id": "YOE-irAIrHQI"
      }
    },
    {
      "cell_type": "code",
      "source": [
        "#Contoh cara menghapus nilai pada list python\n",
        "list = ['fisika', 'kimia', 1993, 2017]\n",
        "print (list)\n",
        "del list[2]\n",
        "print (\"Setelah dihapus nilai pada index 2 : \", list)"
      ],
      "metadata": {
        "colab": {
          "base_uri": "https://localhost:8080/"
        },
        "id": "XWXIGeFeq_TY",
        "outputId": "44500220-3449-41d8-e2f0-627fe6f3fefc"
      },
      "execution_count": 4,
      "outputs": [
        {
          "output_type": "stream",
          "name": "stdout",
          "text": [
            "['fisika', 'kimia', 1993, 2017]\n",
            "Setelah dihapus nilai pada index 2 :  ['fisika', 'kimia', 2017]\n"
          ]
        }
      ]
    },
    {
      "cell_type": "markdown",
      "source": [
        "**Slicing pada List Python**\n",
        "\n",
        "Karena string mirip dengan list, maka slicing operator [ ] juga dapat digunakan pada string untuk mengambil isinya atau bahkan substring.\n",
        "Sebuah string utuh bersifat mutable (bisa diubah), namun elemennya bersifat immutable (tidak bisa diubah)."
      ],
      "metadata": {
        "id": "0SW8I7lirX4r"
      }
    },
    {
      "cell_type": "code",
      "source": [
        "L = ['C++', 'Java', 'Python']\n",
        "print('Indeks ke-2:', L[2])\n",
        "print('Indeks ke-2 dari belakang :', L[-2])\n",
        "print('Indeks ke 1 dan 2 :', L[1:])\n"
      ],
      "metadata": {
        "colab": {
          "base_uri": "https://localhost:8080/"
        },
        "id": "Df6HzdI7rWIy",
        "outputId": "8ad2d38b-6bf7-4dc1-d4a1-5d08059fe7ca"
      },
      "execution_count": 5,
      "outputs": [
        {
          "output_type": "stream",
          "name": "stdout",
          "text": [
            "Indeks ke-2: Python\n",
            "Indeks ke-2 dari belakang : Java\n",
            "Indeks ke 1 dan 2 : ['Java', 'Python']\n"
          ]
        }
      ]
    },
    {
      "cell_type": "markdown",
      "source": [
        "**Set**\n",
        "\n",
        "Set juga merupakan tipe data untuk mengumpulkan beberapa item dalam satu variabel. Bedanya, item di dalam set bersifat tidak berurutan dan\n",
        "tidak bisa diubah/diduplikasi. Set menggunakan {} sebagai kontainer.\n",
        "Sama seperti list, set juga bisa diisi oleh item dengan berbagai jenis data.\n",
        "\n"
      ],
      "metadata": {
        "id": "JEaZ558Irm2e"
      }
    },
    {
      "cell_type": "markdown",
      "source": [
        "**Mengakses item dalam set**\n",
        "\n",
        "\n",
        "Karena set menampung item tidak secara berurutan, maka kita harus memasukan nilai item secara spesifik, dan tidak bisa menggunakan\n",
        "urutan seperti list.\n"
      ],
      "metadata": {
        "id": "5nQfz7MQruAV"
      }
    },
    {
      "cell_type": "code",
      "source": [
        "a = {\"Rokok\", \"Korek\", \"Asbak\"}\n",
        "print(\"Rokok\" in a)\n"
      ],
      "metadata": {
        "colab": {
          "base_uri": "https://localhost:8080/"
        },
        "id": "dq3EFyTZrj4w",
        "outputId": "cd6cf8b2-d91a-4fb9-e59c-59b9687bc775"
      },
      "execution_count": 6,
      "outputs": [
        {
          "output_type": "stream",
          "name": "stdout",
          "text": [
            "True\n"
          ]
        }
      ]
    },
    {
      "cell_type": "markdown",
      "source": [
        "**Menghapus item dalam set**\n",
        "\n",
        "Untuk menghapus item di dalam set, fungsi yang digunakan adalah (variabel).remove(item). Kita tidak bisa menggunakan .pop(urutan_item)\n",
        "seperti di list, karena set tidak memiliki urutan item.\n"
      ],
      "metadata": {
        "id": "vl2Vth0jr1Em"
      }
    },
    {
      "cell_type": "code",
      "source": [
        "a = {\"Rokok\", \"Korek\", \"Asbak\"}\n",
        "a.remove(\"Korek\")\n",
        "print(a)"
      ],
      "metadata": {
        "colab": {
          "base_uri": "https://localhost:8080/"
        },
        "id": "sO0sxHJdrzmc",
        "outputId": "9449878f-a554-4066-cf93-3775d75c1b30"
      },
      "execution_count": 7,
      "outputs": [
        {
          "output_type": "stream",
          "name": "stdout",
          "text": [
            "{'Asbak', 'Rokok'}\n"
          ]
        }
      ]
    },
    {
      "cell_type": "markdown",
      "source": [
        "**Dictionary**\n",
        "\n",
        "Dictionary sebagai tipe data berfungsi mengumpulkan beberapa item dalam satu variabel dengan format key:value. Item di dalam dictionary\n",
        "bersifat berurutan, bisa diubah, tetapi tidak bisa diduplikasi. Dictionary menggunakan simbol {item:item} sebagai kontainer.\n",
        "Contoh dictionary yang diisi item dengan berbagai jenis tipe data."
      ],
      "metadata": {
        "id": "AOFxFjXRsNmQ"
      }
    },
    {
      "cell_type": "code",
      "source": [
        "x = {\"nama\": \"Budi\", \"umur\": 50, \"tinggi_badan\": 155.5}\n",
        "print(x)"
      ],
      "metadata": {
        "colab": {
          "base_uri": "https://localhost:8080/"
        },
        "id": "8w7b-IxVsLmH",
        "outputId": "ac0eed52-a954-446d-8713-fc2c51661c1a"
      },
      "execution_count": 8,
      "outputs": [
        {
          "output_type": "stream",
          "name": "stdout",
          "text": [
            "{'nama': 'Budi', 'umur': 50, 'tinggi_badan': 155.5}\n"
          ]
        }
      ]
    },
    {
      "cell_type": "markdown",
      "source": [
        "**Mengakses value dari dictionary**\n",
        "\n",
        "\n",
        "Untuk mengakses value dari sebuah key dalam dictionary, gunakan (variabel[key]).\n"
      ],
      "metadata": {
        "id": "ea5zBTFwsXcI"
      }
    },
    {
      "cell_type": "code",
      "source": [
        "menteri = {\"nama\": \"Budi\", \"umur\": 50}\n",
        "print(menteri[\"umur\"])"
      ],
      "metadata": {
        "colab": {
          "base_uri": "https://localhost:8080/"
        },
        "id": "aYC7pSv0sU95",
        "outputId": "b1a78275-c4c4-4362-f260-7054d61c3b1d"
      },
      "execution_count": 9,
      "outputs": [
        {
          "output_type": "stream",
          "name": "stdout",
          "text": [
            "50\n"
          ]
        }
      ]
    },
    {
      "cell_type": "code",
      "source": [
        "#Contoh cara membuat Dictionary pada Python\n",
        "dict = {'Name': 'Zara', 'Age': 7, 'Class': 'First'}\n",
        "print (\"dict['Name']: \", dict['Name'])\n",
        "print (\"dict['Age']: \", dict['Age'])"
      ],
      "metadata": {
        "colab": {
          "base_uri": "https://localhost:8080/"
        },
        "id": "3q8qeO-Rsh9W",
        "outputId": "a27125cd-2a06-47c4-bb51-0c6f7513d8dd"
      },
      "execution_count": 10,
      "outputs": [
        {
          "output_type": "stream",
          "name": "stdout",
          "text": [
            "dict['Name']:  Zara\n",
            "dict['Age']:  7\n"
          ]
        }
      ]
    },
    {
      "cell_type": "markdown",
      "source": [
        "**Update Nilai Dalam Dictionary Python**\n",
        "\n",
        "Dapat memperbarui Dictionary dengan menambahkan entri baru atau pasangan nilai kunci, memodifikasi entri yang ada"
      ],
      "metadata": {
        "id": "esBY3Upasntm"
      }
    },
    {
      "cell_type": "markdown",
      "source": [
        "**Mengubah item**\n",
        "\n",
        "Untuk mengubah item, kita perlu menentukan terlebih dahulu key dari item yang ingin diubah. Sintaksis yang digunakan adalah (variabel[key]) =\n",
        "value_baru"
      ],
      "metadata": {
        "id": "X4oiH9_TstAf"
      }
    },
    {
      "cell_type": "code",
      "source": [
        "#Update dictionary python\n",
        "dict = {'Name': 'Zara', 'Age': 7, 'Class': 'First'}\n",
        "dict['Age'] = 8; # Mengubah entri yang sudah ada\n",
        "dict['School'] = \"DPS School\" # Menambah entri baru\n",
        "print (\"dict['Age']: \", dict['Age'])\n",
        "print (\"dict['School']: \", dict['School'])\n"
      ],
      "metadata": {
        "colab": {
          "base_uri": "https://localhost:8080/"
        },
        "id": "Rbl7WJ_fslBf",
        "outputId": "737ac8cd-5a9c-47e0-ed66-53433fce856e"
      },
      "execution_count": 11,
      "outputs": [
        {
          "output_type": "stream",
          "name": "stdout",
          "text": [
            "dict['Age']:  8\n",
            "dict['School']:  DPS School\n"
          ]
        }
      ]
    },
    {
      "cell_type": "code",
      "source": [
        "menteri = {\"nama\": \"Budi\", \"umur\": 50}\n",
        "menteri[\"nama\"] = \"Adi\"\n",
        "print(menteri)"
      ],
      "metadata": {
        "colab": {
          "base_uri": "https://localhost:8080/"
        },
        "id": "HtRq7Mlcs3iJ",
        "outputId": "f801feb1-78e5-48f5-8781-774a4f60b603"
      },
      "execution_count": 12,
      "outputs": [
        {
          "output_type": "stream",
          "name": "stdout",
          "text": [
            "{'nama': 'Adi', 'umur': 50}\n"
          ]
        }
      ]
    },
    {
      "cell_type": "markdown",
      "source": [
        "**Menambah item**\n",
        "\n",
        "\n",
        "Menambah item memiliki langkah yang sama dengan mengubah item. Bedanya, key yang dimasukkan adalah key baru yang belum ada di\n",
        "dalam dictionary. Sintaksis yang digunakan adalah (variabel[key_baru]) = value_baru"
      ],
      "metadata": {
        "id": "XvMw13ods-Id"
      }
    },
    {
      "cell_type": "code",
      "source": [
        "menteri = {\"nama\": \"Budi\", \"umur\": 50}\n",
        "menteri[\"kementerian\"] = \"Setneg\"\n",
        "print(menteri)\n"
      ],
      "metadata": {
        "colab": {
          "base_uri": "https://localhost:8080/"
        },
        "id": "98n6smirs8sp",
        "outputId": "01048ac1-4307-4c27-fe4a-718a40899559"
      },
      "execution_count": 13,
      "outputs": [
        {
          "output_type": "stream",
          "name": "stdout",
          "text": [
            "{'nama': 'Budi', 'umur': 50, 'kementerian': 'Setneg'}\n"
          ]
        }
      ]
    },
    {
      "cell_type": "markdown",
      "source": [
        "**Menghapus item**\n",
        "\n",
        "Untuk menghapus item dalam dictionary, kita menggunakan fungsi .pop dengan sintaksis (variabel).pop(key_yang_ingin_dihapus).\n"
      ],
      "metadata": {
        "id": "YFcYRqNctJlL"
      }
    },
    {
      "cell_type": "code",
      "source": [
        "menteri = {\"nama\": \"Budi\", \"umur\": 50, \"kementerian\": \"Setneg\"}\n",
        "print(menteri.pop(\"kementerian\"))\n"
      ],
      "metadata": {
        "colab": {
          "base_uri": "https://localhost:8080/"
        },
        "id": "0PlyZh0DtHyS",
        "outputId": "dec8c63c-ccad-4128-fc82-2db4323447f4"
      },
      "execution_count": 14,
      "outputs": [
        {
          "output_type": "stream",
          "name": "stdout",
          "text": [
            "Setneg\n"
          ]
        }
      ]
    },
    {
      "cell_type": "code",
      "source": [
        "#Contoh cara menghapus pada Dictionary Python\n",
        "dict = {'Name': 'Zara', 'Age': 7, 'Class': 'First'}\n",
        "del dict['Name'] # hapus entri dengan key 'Name'\n",
        "dict.clear() # hapus semua entri di dict\n",
        "del dict # hapus dictionary yang sudah ada\n",
        "print (\"dict['Age']: \", dict['Age'])\n",
        "print (\"dict['School']: \", dict['School'])"
      ],
      "metadata": {
        "colab": {
          "base_uri": "https://localhost:8080/"
        },
        "id": "YMc_X9KYtU62",
        "outputId": "1ba5a226-ba6d-490b-c0b7-a59155631dbd"
      },
      "execution_count": 15,
      "outputs": [
        {
          "output_type": "stream",
          "name": "stdout",
          "text": [
            "dict['Age']:  dict['Age']\n",
            "dict['School']:  dict['School']\n"
          ]
        }
      ]
    },
    {
      "cell_type": "code",
      "source": [],
      "metadata": {
        "id": "OZJn1uPttYZS"
      },
      "execution_count": null,
      "outputs": []
    },
    {
      "cell_type": "code",
      "source": [],
      "metadata": {
        "id": "8w4LDcm9qQQP"
      },
      "execution_count": null,
      "outputs": []
    }
  ]
}